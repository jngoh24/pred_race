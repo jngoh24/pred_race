{
 "cells": [
  {
   "cell_type": "code",
   "execution_count": 1,
   "id": "e0731724-16b0-411a-b4d5-089763cb1061",
   "metadata": {
    "execution": {
     "iopub.execute_input": "2024-01-10T16:54:02.945868Z",
     "iopub.status.busy": "2024-01-10T16:54:02.945326Z",
     "iopub.status.idle": "2024-01-10T16:55:23.780711Z",
     "shell.execute_reply": "2024-01-10T16:55:23.780023Z",
     "shell.execute_reply.started": "2024-01-10T16:54:02.945831Z"
    },
    "tags": []
   },
   "outputs": [
    {
     "data": {
      "application/vnd.jupyter.widget-view+json": {
       "model_id": "a0050fa246e74dd0bffb8ff0adaeadf4",
       "version_major": 2,
       "version_minor": 0
      },
      "text/plain": [
       "VBox()"
      ]
     },
     "metadata": {},
     "output_type": "display_data"
    },
    {
     "name": "stdout",
     "output_type": "stream",
     "text": [
      "Starting Spark application\n"
     ]
    },
    {
     "data": {
      "text/html": [
       "<table>\n<tbody><tr><th>ID</th><th>YARN Application ID</th><th>Kind</th><th>State</th><th>Spark UI</th><th>Driver log</th><th>User</th><th>Current session?</th></tr><tr><td>1</td><td>application_1704901617114_0002</td><td>pyspark</td><td>idle</td><td><a target=\"_blank\" href=\"http://ip-10-70-2-220.ec2.internal:20888/proxy/application_1704901617114_0002/\" class=\"emr-proxy-link j-1I6LRZN3S7D61 application_1704901617114_0002\" emr-resource=\"j-1I6LRZN3S7D61\n\" application-id=\"application_1704901617114_0002\">Link</a></td><td><a target=\"_blank\" href=\"http://ip-10-70-2-58.ec2.internal:8042/node/containerlogs/container_1704901617114_0002_01_000001/livy\">Link</a></td><td>None</td><td>✔</td></tr></tbody></table>"
      ],
      "text/plain": [
       "<IPython.core.display.HTML object>"
      ]
     },
     "metadata": {},
     "output_type": "display_data"
    },
    {
     "data": {
      "application/vnd.jupyter.widget-view+json": {
       "model_id": "",
       "version_major": 2,
       "version_minor": 0
      },
      "text/plain": [
       "FloatProgress(value=0.0, bar_style='info', description='Progress:', layout=Layout(height='25px', width='50%'),…"
      ]
     },
     "metadata": {},
     "output_type": "display_data"
    },
    {
     "name": "stdout",
     "output_type": "stream",
     "text": [
      "SparkSession available as 'spark'.\n"
     ]
    },
    {
     "data": {
      "application/vnd.jupyter.widget-view+json": {
       "model_id": "",
       "version_major": 2,
       "version_minor": 0
      },
      "text/plain": [
       "FloatProgress(value=0.0, bar_style='info', description='Progress:', layout=Layout(height='25px', width='50%'),…"
      ]
     },
     "metadata": {},
     "output_type": "display_data"
    },
    {
     "name": "stdout",
     "output_type": "stream",
     "text": [
      "hi"
     ]
    }
   ],
   "source": [
    "print(\"hi\")"
   ]
  },
  {
   "cell_type": "code",
   "execution_count": 2,
   "id": "cb3a39a0-dfd7-41e6-8c67-ed6fdda1d7ca",
   "metadata": {
    "execution": {
     "iopub.execute_input": "2024-01-10T16:55:23.782257Z",
     "iopub.status.busy": "2024-01-10T16:55:23.782031Z",
     "iopub.status.idle": "2024-01-10T16:55:26.062996Z",
     "shell.execute_reply": "2024-01-10T16:55:26.062071Z",
     "shell.execute_reply.started": "2024-01-10T16:55:23.782234Z"
    },
    "tags": []
   },
   "outputs": [
    {
     "data": {
      "application/vnd.jupyter.widget-view+json": {
       "model_id": "42a82a35bb60476d87fd8fbcccb51ebb",
       "version_major": 2,
       "version_minor": 0
      },
      "text/plain": [
       "VBox()"
      ]
     },
     "metadata": {},
     "output_type": "display_data"
    },
    {
     "data": {
      "application/vnd.jupyter.widget-view+json": {
       "model_id": "",
       "version_major": 2,
       "version_minor": 0
      },
      "text/plain": [
       "FloatProgress(value=0.0, bar_style='info', description='Progress:', layout=Layout(height='25px', width='50%'),…"
      ]
     },
     "metadata": {},
     "output_type": "display_data"
    }
   ],
   "source": [
    "import pyspark.sql.functions as F\n",
    "from pyspark.sql.functions import col, split, when, substring_index, round\n",
    "from pyspark.sql.types import StringType\n",
    "import pandas as pd\n",
    "import matplotlib\n",
    "import joblib"
   ]
  },
  {
   "cell_type": "code",
   "execution_count": 3,
   "id": "735aa44f-d5e1-4614-bd8e-1db25756fe40",
   "metadata": {
    "execution": {
     "iopub.execute_input": "2024-01-10T16:55:26.064282Z",
     "iopub.status.busy": "2024-01-10T16:55:26.064035Z",
     "iopub.status.idle": "2024-01-10T16:55:26.824117Z",
     "shell.execute_reply": "2024-01-10T16:55:26.823381Z",
     "shell.execute_reply.started": "2024-01-10T16:55:26.064256Z"
    },
    "tags": []
   },
   "outputs": [
    {
     "data": {
      "application/vnd.jupyter.widget-view+json": {
       "model_id": "de83702455224ade80dc344ba95d9807",
       "version_major": 2,
       "version_minor": 0
      },
      "text/plain": [
       "VBox()"
      ]
     },
     "metadata": {},
     "output_type": "display_data"
    },
    {
     "data": {
      "application/vnd.jupyter.widget-view+json": {
       "model_id": "",
       "version_major": 2,
       "version_minor": 0
      },
      "text/plain": [
       "FloatProgress(value=0.0, bar_style='info', description='Progress:', layout=Layout(height='25px', width='50%'),…"
      ]
     },
     "metadata": {},
     "output_type": "display_data"
    }
   ],
   "source": [
    "from pyspark.sql import SparkSession\n",
    "from pyspark.ml.classification import LogisticRegression\n",
    "from pyspark.ml.feature import VectorAssembler\n",
    "from pyspark.ml.evaluation import BinaryClassificationEvaluator\n",
    "from pyspark.ml.feature import StringIndexer, OneHotEncoder\n",
    "from pyspark.ml import Pipeline\n",
    "from pyspark.ml.feature import VectorAssembler, StringIndexer, OneHotEncoder\n",
    "from pyspark.ml.classification import DecisionTreeClassifier\n",
    "from pyspark.ml.evaluation import MulticlassClassificationEvaluator"
   ]
  },
  {
   "cell_type": "code",
   "execution_count": 4,
   "id": "81d206a5-09d3-4d82-a807-0644b705dc87",
   "metadata": {
    "execution": {
     "iopub.execute_input": "2024-01-10T16:55:26.825650Z",
     "iopub.status.busy": "2024-01-10T16:55:26.825315Z",
     "iopub.status.idle": "2024-01-10T16:55:32.106116Z",
     "shell.execute_reply": "2024-01-10T16:55:32.105261Z",
     "shell.execute_reply.started": "2024-01-10T16:55:26.825614Z"
    },
    "tags": []
   },
   "outputs": [
    {
     "data": {
      "application/vnd.jupyter.widget-view+json": {
       "model_id": "9cdbd9e58155486587a5a5703644150b",
       "version_major": 2,
       "version_minor": 0
      },
      "text/plain": [
       "VBox()"
      ]
     },
     "metadata": {},
     "output_type": "display_data"
    },
    {
     "data": {
      "application/vnd.jupyter.widget-view+json": {
       "model_id": "",
       "version_major": 2,
       "version_minor": 0
      },
      "text/plain": [
       "FloatProgress(value=0.0, bar_style='info', description='Progress:', layout=Layout(height='25px', width='50%'),…"
      ]
     },
     "metadata": {},
     "output_type": "display_data"
    }
   ],
   "source": [
    "from ethnicolr import census_ln, pred_census_ln, pred_wiki_name, pred_wiki_ln, pred_fl_reg_ln, pred_fl_reg_name, pred_fl_reg_ln_five_cat, pred_fl_reg_name_five_cat, pred_nc_reg_name"
   ]
  },
  {
   "cell_type": "code",
   "execution_count": 5,
   "id": "ff1b0e90-cd68-433b-bbb4-53fae2ac87f3",
   "metadata": {
    "execution": {
     "iopub.execute_input": "2024-01-10T16:55:32.107357Z",
     "iopub.status.busy": "2024-01-10T16:55:32.107141Z",
     "iopub.status.idle": "2024-01-10T17:00:28.266116Z",
     "shell.execute_reply": "2024-01-10T17:00:28.265406Z",
     "shell.execute_reply.started": "2024-01-10T16:55:32.107335Z"
    },
    "tags": []
   },
   "outputs": [
    {
     "data": {
      "application/vnd.jupyter.widget-view+json": {
       "model_id": "a3ed7e3e19964d7abb31e3b7e113cc33",
       "version_major": 2,
       "version_minor": 0
      },
      "text/plain": [
       "VBox()"
      ]
     },
     "metadata": {},
     "output_type": "display_data"
    },
    {
     "data": {
      "application/vnd.jupyter.widget-view+json": {
       "model_id": "",
       "version_major": 2,
       "version_minor": 0
      },
      "text/plain": [
       "FloatProgress(value=0.0, bar_style='info', description='Progress:', layout=Layout(height='25px', width='50%'),…"
      ]
     },
     "metadata": {},
     "output_type": "display_data"
    }
   ],
   "source": [
    "input_path = 's3://cinqcareai-data-lake-prod-unrestricted/layer_f/acxiom/acxiom_mom/'\n",
    "acxiom = spark.read.option(\"mergeSchema\", \"true\").parquet(input_path).filter((F.col('file_date') == '2023-12-01') & (F.col('input_state_3038') == 'NY'))"
   ]
  },
  {
   "cell_type": "code",
   "execution_count": 6,
   "id": "041dffa0-40b4-4016-850c-8df30572d1c0",
   "metadata": {
    "execution": {
     "iopub.execute_input": "2024-01-10T17:00:28.267361Z",
     "iopub.status.busy": "2024-01-10T17:00:28.267121Z",
     "iopub.status.idle": "2024-01-10T17:04:24.172192Z",
     "shell.execute_reply": "2024-01-10T17:04:24.171454Z",
     "shell.execute_reply.started": "2024-01-10T17:00:28.267337Z"
    },
    "tags": []
   },
   "outputs": [
    {
     "data": {
      "application/vnd.jupyter.widget-view+json": {
       "model_id": "803ef9c3869e4979b5fd437a35953cc1",
       "version_major": 2,
       "version_minor": 0
      },
      "text/plain": [
       "VBox()"
      ]
     },
     "metadata": {},
     "output_type": "display_data"
    },
    {
     "data": {
      "application/vnd.jupyter.widget-view+json": {
       "model_id": "",
       "version_major": 2,
       "version_minor": 0
      },
      "text/plain": [
       "FloatProgress(value=0.0, bar_style='info', description='Progress:', layout=Layout(height='25px', width='50%'),…"
      ]
     },
     "metadata": {},
     "output_type": "display_data"
    }
   ],
   "source": [
    "acxiom_aa = spark.read.option(\"mergeSchema\", \"true\").parquet(input_path).filter((F.col('file_date') == '2023-12-01') & (F.col('input_state_3038') == 'NY') \n",
    "                                                                             & (F.col('race_code_low_detail_ibe3101') == 'Black or African American'))"
   ]
  },
  {
   "cell_type": "code",
   "execution_count": 7,
   "id": "a0c5335c-6ada-459a-92d5-ab7a3f044300",
   "metadata": {
    "execution": {
     "iopub.execute_input": "2024-01-10T17:04:24.176112Z",
     "iopub.status.busy": "2024-01-10T17:04:24.175878Z",
     "iopub.status.idle": "2024-01-10T17:04:24.432523Z",
     "shell.execute_reply": "2024-01-10T17:04:24.431787Z",
     "shell.execute_reply.started": "2024-01-10T17:04:24.176089Z"
    },
    "tags": []
   },
   "outputs": [
    {
     "data": {
      "application/vnd.jupyter.widget-view+json": {
       "model_id": "17e1f4d5901442ebba2acb559d8262f1",
       "version_major": 2,
       "version_minor": 0
      },
      "text/plain": [
       "VBox()"
      ]
     },
     "metadata": {},
     "output_type": "display_data"
    },
    {
     "data": {
      "application/vnd.jupyter.widget-view+json": {
       "model_id": "",
       "version_major": 2,
       "version_minor": 0
      },
      "text/plain": [
       "FloatProgress(value=0.0, bar_style='info', description='Progress:', layout=Layout(height='25px', width='50%'),…"
      ]
     },
     "metadata": {},
     "output_type": "display_data"
    }
   ],
   "source": [
    "acxiom_features = acxiom.select(\"race_code_low_detail_ibe3101\",\"input_first_name_3131\", \"input_middle_initial_3131\", \"input_last_name_3131\", \"first_name__middle_initial__gender_1st_person_in_household_first_name_ibe8610_01\",\n",
    "\"first_name__middle_initial__gender_1st_person_in_household_gender_ibe8610_03\",\"personicx_lifestage_segment_code_px001270_01\",\"geo_federal_congressional_district_code_ibe2403_01\", \n",
    "\"heavy_transactors_ibe9358\", \"underbanked_ibe9351\", \"economic_stability_indicator_esi_ibe9350\", \"used_multiple_formula_with_minerals_in_the_last_6_months_ap000924\",\n",
    "\"i_use_tv_media_for_information_and_inspiration_ap001578\", \"never_or_rarely_carry_a_balance_on_a_credit_card_financial_ap004921\")\n",
    "\n",
    "acxiom_concat = acxiom_features.withColumn(\"full_name\", F.concat(acxiom_features[\"input_first_name_3131\"], F.lit(\" \"), acxiom_features[\"input_last_name_3131\"]))"
   ]
  },
  {
   "cell_type": "code",
   "execution_count": 8,
   "id": "3871851a-0fda-47af-a0d0-e2fc98c865d1",
   "metadata": {
    "execution": {
     "iopub.execute_input": "2024-01-10T17:04:24.434438Z",
     "iopub.status.busy": "2024-01-10T17:04:24.434202Z",
     "iopub.status.idle": "2024-01-10T17:04:24.689197Z",
     "shell.execute_reply": "2024-01-10T17:04:24.688479Z",
     "shell.execute_reply.started": "2024-01-10T17:04:24.434413Z"
    },
    "tags": []
   },
   "outputs": [
    {
     "data": {
      "application/vnd.jupyter.widget-view+json": {
       "model_id": "a32d39e4e3364b10aa5308b816edb86f",
       "version_major": 2,
       "version_minor": 0
      },
      "text/plain": [
       "VBox()"
      ]
     },
     "metadata": {},
     "output_type": "display_data"
    },
    {
     "data": {
      "application/vnd.jupyter.widget-view+json": {
       "model_id": "",
       "version_major": 2,
       "version_minor": 0
      },
      "text/plain": [
       "FloatProgress(value=0.0, bar_style='info', description='Progress:', layout=Layout(height='25px', width='50%'),…"
      ]
     },
     "metadata": {},
     "output_type": "display_data"
    }
   ],
   "source": [
    "acxiom_features_aa = acxiom_aa.select(\"race_code_low_detail_ibe3101\",\"input_first_name_3131\", \"input_middle_initial_3131\", \"input_last_name_3131\", \"first_name__middle_initial__gender_1st_person_in_household_first_name_ibe8610_01\",\n",
    "\"first_name__middle_initial__gender_1st_person_in_household_gender_ibe8610_03\",\"personicx_lifestage_segment_code_px001270_01\",\"geo_federal_congressional_district_code_ibe2403_01\", \n",
    "\"heavy_transactors_ibe9358\", \"underbanked_ibe9351\", \"economic_stability_indicator_esi_ibe9350\", \"used_multiple_formula_with_minerals_in_the_last_6_months_ap000924\",\n",
    "\"i_use_tv_media_for_information_and_inspiration_ap001578\", \"never_or_rarely_carry_a_balance_on_a_credit_card_financial_ap004921\")\n",
    "\n",
    "acxiom_concat_aa = acxiom_features_aa.withColumn(\"full_name\", F.concat(acxiom_features_aa[\"input_first_name_3131\"], F.lit(\" \"), acxiom_features_aa[\"input_last_name_3131\"]))"
   ]
  },
  {
   "cell_type": "code",
   "execution_count": 9,
   "id": "ccc53d4f-fe1b-4968-9367-0eb441379c93",
   "metadata": {
    "execution": {
     "iopub.execute_input": "2024-01-10T17:04:24.690696Z",
     "iopub.status.busy": "2024-01-10T17:04:24.690342Z",
     "iopub.status.idle": "2024-01-10T17:04:24.941137Z",
     "shell.execute_reply": "2024-01-10T17:04:24.940389Z",
     "shell.execute_reply.started": "2024-01-10T17:04:24.690658Z"
    },
    "tags": []
   },
   "outputs": [
    {
     "data": {
      "application/vnd.jupyter.widget-view+json": {
       "model_id": "44a3c940635f47ac850585ff1ddc61b5",
       "version_major": 2,
       "version_minor": 0
      },
      "text/plain": [
       "VBox()"
      ]
     },
     "metadata": {},
     "output_type": "display_data"
    },
    {
     "data": {
      "application/vnd.jupyter.widget-view+json": {
       "model_id": "",
       "version_major": 2,
       "version_minor": 0
      },
      "text/plain": [
       "FloatProgress(value=0.0, bar_style='info', description='Progress:', layout=Layout(height='25px', width='50%'),…"
      ]
     },
     "metadata": {},
     "output_type": "display_data"
    }
   ],
   "source": [
    "acxiom_y = acxiom_concat.withColumn(\"likely_member\", when(acxiom[\"race_code_low_detail_ibe3101\"] == \"Black or African American\", 1).otherwise(0))\n",
    "acxiom_y_aa = acxiom_concat_aa.withColumn(\"likely_member\", when(acxiom_aa[\"race_code_low_detail_ibe3101\"] == \"Black or African American\", 1).otherwise(0))"
   ]
  },
  {
   "cell_type": "code",
   "execution_count": 10,
   "id": "b657ba07-bc9b-4d21-9103-d9a080fa22aa",
   "metadata": {
    "execution": {
     "iopub.execute_input": "2024-01-10T17:04:24.942369Z",
     "iopub.status.busy": "2024-01-10T17:04:24.942122Z",
     "iopub.status.idle": "2024-01-10T17:04:34.223199Z",
     "shell.execute_reply": "2024-01-10T17:04:34.222343Z",
     "shell.execute_reply.started": "2024-01-10T17:04:24.942345Z"
    },
    "tags": []
   },
   "outputs": [
    {
     "data": {
      "application/vnd.jupyter.widget-view+json": {
       "model_id": "55b0219d255f4824bd672a747161bac7",
       "version_major": 2,
       "version_minor": 0
      },
      "text/plain": [
       "VBox()"
      ]
     },
     "metadata": {},
     "output_type": "display_data"
    },
    {
     "data": {
      "application/vnd.jupyter.widget-view+json": {
       "model_id": "",
       "version_major": 2,
       "version_minor": 0
      },
      "text/plain": [
       "FloatProgress(value=0.0, bar_style='info', description='Progress:', layout=Layout(height='25px', width='50%'),…"
      ]
     },
     "metadata": {},
     "output_type": "display_data"
    },
    {
     "name": "stdout",
     "output_type": "stream",
     "text": [
      "58663"
     ]
    }
   ],
   "source": [
    "sample_data = acxiom_y.sample(withReplacement=False, fraction=.0039, seed=456)\n",
    "sample_data.count()"
   ]
  },
  {
   "cell_type": "code",
   "execution_count": 11,
   "id": "31ae5f24-4dc6-4bd7-b140-7dff7a531703",
   "metadata": {
    "execution": {
     "iopub.execute_input": "2024-01-10T17:04:34.224426Z",
     "iopub.status.busy": "2024-01-10T17:04:34.224186Z",
     "iopub.status.idle": "2024-01-10T17:04:47.525380Z",
     "shell.execute_reply": "2024-01-10T17:04:47.524532Z",
     "shell.execute_reply.started": "2024-01-10T17:04:34.224401Z"
    },
    "tags": []
   },
   "outputs": [
    {
     "data": {
      "application/vnd.jupyter.widget-view+json": {
       "model_id": "f532691b8258468b84968703e645bf98",
       "version_major": 2,
       "version_minor": 0
      },
      "text/plain": [
       "VBox()"
      ]
     },
     "metadata": {},
     "output_type": "display_data"
    },
    {
     "data": {
      "application/vnd.jupyter.widget-view+json": {
       "model_id": "",
       "version_major": 2,
       "version_minor": 0
      },
      "text/plain": [
       "FloatProgress(value=0.0, bar_style='info', description='Progress:', layout=Layout(height='25px', width='50%'),…"
      ]
     },
     "metadata": {},
     "output_type": "display_data"
    },
    {
     "name": "stdout",
     "output_type": "stream",
     "text": [
      "40601"
     ]
    }
   ],
   "source": [
    "sample_data_aa = acxiom_y_aa.sample(withReplacement=False, fraction=.019, seed=654)\n",
    "sample_data_aa.count()"
   ]
  },
  {
   "cell_type": "code",
   "execution_count": 12,
   "id": "a88f42cb-d3d1-455f-96ec-d8feddc37e1e",
   "metadata": {
    "execution": {
     "iopub.execute_input": "2024-01-10T17:04:47.526967Z",
     "iopub.status.busy": "2024-01-10T17:04:47.526622Z",
     "iopub.status.idle": "2024-01-10T17:04:47.773765Z",
     "shell.execute_reply": "2024-01-10T17:04:47.773063Z",
     "shell.execute_reply.started": "2024-01-10T17:04:47.526928Z"
    },
    "tags": []
   },
   "outputs": [
    {
     "data": {
      "application/vnd.jupyter.widget-view+json": {
       "model_id": "034550351a134764bfe500de7474a262",
       "version_major": 2,
       "version_minor": 0
      },
      "text/plain": [
       "VBox()"
      ]
     },
     "metadata": {},
     "output_type": "display_data"
    },
    {
     "data": {
      "application/vnd.jupyter.widget-view+json": {
       "model_id": "",
       "version_major": 2,
       "version_minor": 0
      },
      "text/plain": [
       "FloatProgress(value=0.0, bar_style='info', description='Progress:', layout=Layout(height='25px', width='50%'),…"
      ]
     },
     "metadata": {},
     "output_type": "display_data"
    }
   ],
   "source": [
    "sample_data_final = sample_data.union(sample_data_aa)"
   ]
  },
  {
   "cell_type": "code",
   "execution_count": 13,
   "id": "f166edd5-94bd-421a-9595-0e95ad3acf65",
   "metadata": {
    "execution": {
     "iopub.execute_input": "2024-01-10T17:04:47.776855Z",
     "iopub.status.busy": "2024-01-10T17:04:47.776617Z",
     "iopub.status.idle": "2024-01-10T17:04:59.065615Z",
     "shell.execute_reply": "2024-01-10T17:04:59.064856Z",
     "shell.execute_reply.started": "2024-01-10T17:04:47.776830Z"
    },
    "tags": []
   },
   "outputs": [
    {
     "data": {
      "application/vnd.jupyter.widget-view+json": {
       "model_id": "76c8d5cf93124bb38474c087e657f801",
       "version_major": 2,
       "version_minor": 0
      },
      "text/plain": [
       "VBox()"
      ]
     },
     "metadata": {},
     "output_type": "display_data"
    },
    {
     "data": {
      "application/vnd.jupyter.widget-view+json": {
       "model_id": "",
       "version_major": 2,
       "version_minor": 0
      },
      "text/plain": [
       "FloatProgress(value=0.0, bar_style='info', description='Progress:', layout=Layout(height='25px', width='50%'),…"
      ]
     },
     "metadata": {},
     "output_type": "display_data"
    },
    {
     "name": "stdout",
     "output_type": "stream",
     "text": [
      "99264"
     ]
    }
   ],
   "source": [
    "sample_data_final.count()"
   ]
  },
  {
   "cell_type": "code",
   "execution_count": 14,
   "id": "d8875308-9c06-423d-b0e3-be3f8aca4a23",
   "metadata": {
    "execution": {
     "iopub.execute_input": "2024-01-10T17:04:59.067039Z",
     "iopub.status.busy": "2024-01-10T17:04:59.066789Z",
     "iopub.status.idle": "2024-01-10T17:05:06.355119Z",
     "shell.execute_reply": "2024-01-10T17:05:06.354431Z",
     "shell.execute_reply.started": "2024-01-10T17:04:59.067014Z"
    },
    "tags": []
   },
   "outputs": [
    {
     "data": {
      "application/vnd.jupyter.widget-view+json": {
       "model_id": "0e849d2751b842a99bd2a2271b5544e0",
       "version_major": 2,
       "version_minor": 0
      },
      "text/plain": [
       "VBox()"
      ]
     },
     "metadata": {},
     "output_type": "display_data"
    },
    {
     "data": {
      "application/vnd.jupyter.widget-view+json": {
       "model_id": "",
       "version_major": 2,
       "version_minor": 0
      },
      "text/plain": [
       "FloatProgress(value=0.0, bar_style='info', description='Progress:', layout=Layout(height='25px', width='50%'),…"
      ]
     },
     "metadata": {},
     "output_type": "display_data"
    },
    {
     "name": "stdout",
     "output_type": "stream",
     "text": [
      "+----------------------------+-----+\n",
      "|race_code_low_detail_ibe3101|count|\n",
      "+----------------------------+-----+\n",
      "|                        null| 1601|\n",
      "|        Black or African ...| 8504|\n",
      "|                 White/Other|33356|\n",
      "|                       Asian| 5217|\n",
      "|                    Hispanic| 9985|\n",
      "+----------------------------+-----+"
     ]
    }
   ],
   "source": [
    "full_races = sample_data.groupBy(F.col(\"race_code_low_detail_ibe3101\")).count()\n",
    "full_races.show()"
   ]
  },
  {
   "cell_type": "code",
   "execution_count": 15,
   "id": "c03d7549-f79e-4db3-8def-bbcb8ff6625e",
   "metadata": {
    "execution": {
     "iopub.execute_input": "2024-01-10T17:05:06.356480Z",
     "iopub.status.busy": "2024-01-10T17:05:06.356246Z",
     "iopub.status.idle": "2024-01-10T17:05:11.638821Z",
     "shell.execute_reply": "2024-01-10T17:05:11.637974Z",
     "shell.execute_reply.started": "2024-01-10T17:05:06.356457Z"
    }
   },
   "outputs": [
    {
     "data": {
      "application/vnd.jupyter.widget-view+json": {
       "model_id": "b0f275f0152c4c1ebf69ffe2a6d58f62",
       "version_major": 2,
       "version_minor": 0
      },
      "text/plain": [
       "VBox()"
      ]
     },
     "metadata": {},
     "output_type": "display_data"
    },
    {
     "data": {
      "application/vnd.jupyter.widget-view+json": {
       "model_id": "",
       "version_major": 2,
       "version_minor": 0
      },
      "text/plain": [
       "FloatProgress(value=0.0, bar_style='info', description='Progress:', layout=Layout(height='25px', width='50%'),…"
      ]
     },
     "metadata": {},
     "output_type": "display_data"
    },
    {
     "name": "stdout",
     "output_type": "stream",
     "text": [
      "+----------------------------+-----+\n",
      "|race_code_low_detail_ibe3101|count|\n",
      "+----------------------------+-----+\n",
      "|                        null| 1601|\n",
      "|        Black or African ...| 8504|\n",
      "|                 White/Other|33356|\n",
      "|                       Asian| 5217|\n",
      "|                    Hispanic| 9985|\n",
      "+----------------------------+-----+"
     ]
    }
   ],
   "source": [
    "full_races = sample_data.groupBy(F.col(\"race_code_low_detail_ibe3101\")).count()\n",
    "full_races.show()"
   ]
  },
  {
   "cell_type": "code",
   "execution_count": 16,
   "id": "615e7070-4f66-48e4-8c86-d12b7876439d",
   "metadata": {
    "execution": {
     "iopub.execute_input": "2024-01-10T17:05:11.640327Z",
     "iopub.status.busy": "2024-01-10T17:05:11.639989Z",
     "iopub.status.idle": "2024-01-10T17:05:40.990791Z",
     "shell.execute_reply": "2024-01-10T17:05:40.989934Z",
     "shell.execute_reply.started": "2024-01-10T17:05:11.640288Z"
    },
    "tags": []
   },
   "outputs": [
    {
     "data": {
      "application/vnd.jupyter.widget-view+json": {
       "model_id": "a97a00c44fc54702bb6a15069e8a393c",
       "version_major": 2,
       "version_minor": 0
      },
      "text/plain": [
       "VBox()"
      ]
     },
     "metadata": {},
     "output_type": "display_data"
    },
    {
     "data": {
      "application/vnd.jupyter.widget-view+json": {
       "model_id": "",
       "version_major": 2,
       "version_minor": 0
      },
      "text/plain": [
       "FloatProgress(value=0.0, bar_style='info', description='Progress:', layout=Layout(height='25px', width='50%'),…"
      ]
     },
     "metadata": {},
     "output_type": "display_data"
    },
    {
     "name": "stdout",
     "output_type": "stream",
     "text": [
      "96100"
     ]
    }
   ],
   "source": [
    "distinct_names = sample_data_final.select(\"full_name\").distinct()\n",
    "distinct_names= distinct_names.orderBy(\"full_name\")\n",
    "count1 = distinct_names.count()\n",
    "# distinct_names.show()\n",
    "print(count1)"
   ]
  },
  {
   "cell_type": "code",
   "execution_count": 17,
   "id": "bf1b9ce0-b63f-4ba9-b78d-76303388e15f",
   "metadata": {
    "execution": {
     "iopub.execute_input": "2024-01-10T17:05:40.992043Z",
     "iopub.status.busy": "2024-01-10T17:05:40.991791Z",
     "iopub.status.idle": "2024-01-10T17:06:22.367733Z",
     "shell.execute_reply": "2024-01-10T17:06:22.367021Z",
     "shell.execute_reply.started": "2024-01-10T17:05:40.992013Z"
    },
    "tags": []
   },
   "outputs": [
    {
     "data": {
      "application/vnd.jupyter.widget-view+json": {
       "model_id": "cfa3a41511d04432892f7591b51b54c9",
       "version_major": 2,
       "version_minor": 0
      },
      "text/plain": [
       "VBox()"
      ]
     },
     "metadata": {},
     "output_type": "display_data"
    },
    {
     "data": {
      "application/vnd.jupyter.widget-view+json": {
       "model_id": "",
       "version_major": 2,
       "version_minor": 0
      },
      "text/plain": [
       "FloatProgress(value=0.0, bar_style='info', description='Progress:', layout=Layout(height='25px', width='50%'),…"
      ]
     },
     "metadata": {},
     "output_type": "display_data"
    },
    {
     "name": "stdout",
     "output_type": "stream",
     "text": [
      "+-----------+----------+---------+\n",
      "|  full_name|first_name|last_name|\n",
      "+-----------+----------+---------+\n",
      "|A CARPENTER|         A|CARPENTER|\n",
      "|   A DALISA|         A|   DALISA|\n",
      "|  A DARLING|         A|  DARLING|\n",
      "|    A DOVOX|         A|    DOVOX|\n",
      "|    A GOULD|         A|    GOULD|\n",
      "|A GUTMAKHER|         A|GUTMAKHER|\n",
      "|     A HAAG|         A|     HAAG|\n",
      "|  A IANNACO|         A|  IANNACO|\n",
      "| A JERIANNE|         A| JERIANNE|\n",
      "|   A JOSEPH|         A|   JOSEPH|\n",
      "| A LAWRENCE|         A| LAWRENCE|\n",
      "|   A MADDEN|         A|   MADDEN|\n",
      "|  A MADIGAN|         A|  MADIGAN|\n",
      "|A MAGARDINO|         A|MAGARDINO|\n",
      "|    A MARTE|         A|    MARTE|\n",
      "|   A PIERRE|         A|   PIERRE|\n",
      "|  A POLLACK|         A|  POLLACK|\n",
      "|   A RAHMAN|         A|   RAHMAN|\n",
      "|   A RONALD|         A|   RONALD|\n",
      "|     A ROTH|         A|     ROTH|\n",
      "+-----------+----------+---------+\n",
      "only showing top 20 rows\n",
      "\n",
      "96100"
     ]
    }
   ],
   "source": [
    "ethnicolr_preds = sample_data_final.groupBy(\"full_name\").agg(\n",
    "    F.first(\"input_first_name_3131\").alias(\"first_name\"),\n",
    "    F.first(\"input_last_name_3131\").alias(\"last_name\")\n",
    ")\n",
    "preds = ethnicolr_preds.orderBy(\"full_name\")\n",
    "count3 = ethnicolr_preds.count()\n",
    "preds.show()\n",
    "print(count3)"
   ]
  },
  {
   "cell_type": "code",
   "execution_count": 18,
   "id": "e8cf2643-6e83-430e-8cd1-3cf19306896f",
   "metadata": {
    "execution": {
     "iopub.execute_input": "2024-01-10T17:06:22.369411Z",
     "iopub.status.busy": "2024-01-10T17:06:22.369057Z",
     "iopub.status.idle": "2024-01-10T17:06:45.697044Z",
     "shell.execute_reply": "2024-01-10T17:06:45.696157Z",
     "shell.execute_reply.started": "2024-01-10T17:06:22.369359Z"
    },
    "tags": []
   },
   "outputs": [
    {
     "data": {
      "application/vnd.jupyter.widget-view+json": {
       "model_id": "92eb093f7ca144ffaf048ac4a72e4267",
       "version_major": 2,
       "version_minor": 0
      },
      "text/plain": [
       "VBox()"
      ]
     },
     "metadata": {},
     "output_type": "display_data"
    },
    {
     "data": {
      "application/vnd.jupyter.widget-view+json": {
       "model_id": "",
       "version_major": 2,
       "version_minor": 0
      },
      "text/plain": [
       "FloatProgress(value=0.0, bar_style='info', description='Progress:', layout=Layout(height='25px', width='50%'),…"
      ]
     },
     "metadata": {},
     "output_type": "display_data"
    }
   ],
   "source": [
    "pd_preds = ethnicolr_preds.toPandas()"
   ]
  },
  {
   "cell_type": "code",
   "execution_count": 19,
   "id": "5887bc5e-cfa8-4581-b3fb-c020c9fa2747",
   "metadata": {
    "execution": {
     "iopub.execute_input": "2024-01-10T17:06:45.699026Z",
     "iopub.status.busy": "2024-01-10T17:06:45.698474Z",
     "iopub.status.idle": "2024-01-10T17:06:58.993289Z",
     "shell.execute_reply": "2024-01-10T17:06:58.992435Z",
     "shell.execute_reply.started": "2024-01-10T17:06:45.698987Z"
    },
    "tags": []
   },
   "outputs": [
    {
     "data": {
      "application/vnd.jupyter.widget-view+json": {
       "model_id": "256f3773ac2b4d01add918d68fd9133e",
       "version_major": 2,
       "version_minor": 0
      },
      "text/plain": [
       "VBox()"
      ]
     },
     "metadata": {},
     "output_type": "display_data"
    },
    {
     "data": {
      "application/vnd.jupyter.widget-view+json": {
       "model_id": "",
       "version_major": 2,
       "version_minor": 0
      },
      "text/plain": [
       "FloatProgress(value=0.0, bar_style='info', description='Progress:', layout=Layout(height='25px', width='50%'),…"
      ]
     },
     "metadata": {},
     "output_type": "display_data"
    },
    {
     "name": "stdout",
     "output_type": "stream",
     "text": [
      "Final Result:\n",
      "/usr/local/lib/python3.7/site-packages/ethnicolr/pred_fl_reg_name_five_cat.py:52: SettingWithCopyWarning: \n",
      "A value is trying to be set on a copy of a slice from a DataFrame.\n",
      "Try using .loc[row_indexer,col_indexer] = value instead\n",
      "\n",
      "See the caveats in the documentation: https://pandas.pydata.org/pandas-docs/stable/user_guide/indexing.html#returning-a-view-versus-a-copy\n",
      "  + ' ' + df[fname_col].str.strip()).str.title()\n",
      "/usr/local/lib64/python3.7/site-packages/pandas/util/_decorators.py:311: SettingWithCopyWarning: \n",
      "A value is trying to be set on a copy of a slice from a DataFrame\n",
      "\n",
      "See the caveats in the documentation: https://pandas.pydata.org/pandas-docs/stable/user_guide/indexing.html#returning-a-view-versus-a-copy\n",
      "  return func(*args, **kwargs)\n",
      "/usr/local/lib/python3.7/site-packages/ethnicolr/ethnicolr_class.py:98: SettingWithCopyWarning: \n",
      "A value is trying to be set on a copy of a slice from a DataFrame.\n",
      "Try using .loc[row_indexer,col_indexer] = value instead\n",
      "\n",
      "See the caveats in the documentation: https://pandas.pydata.org/pandas-docs/stable/user_guide/indexing.html#returning-a-view-versus-a-copy\n",
      "  df[newnamecol] = df[newnamecol].str.strip().str.title()\n",
      "/usr/local/lib/python3.7/site-packages/ethnicolr/ethnicolr_class.py:99: SettingWithCopyWarning: \n",
      "A value is trying to be set on a copy of a slice from a DataFrame.\n",
      "Try using .loc[row_indexer,col_indexer] = value instead\n",
      "\n",
      "See the caveats in the documentation: https://pandas.pydata.org/pandas-docs/stable/user_guide/indexing.html#returning-a-view-versus-a-copy\n",
      "  df[\"rowindex\"] = df.index"
     ]
    }
   ],
   "source": [
    "# Define the columns to drop\n",
    "drop_columns = [\"first_name\", \"last_name\"]\n",
    "\n",
    "# Prefix for new columns\n",
    "pred_fl_5_name_prefix = 'pred_fl_5_'\n",
    "\n",
    "# Batch size\n",
    "batch_size = 12000\n",
    "\n",
    "# Calculate the number of iterations needed\n",
    "num_iterations = -(-len(pd_preds) // batch_size)  # Equivalent to math.ceil(len(pd_preds_va) / batch_size)\n",
    "\n",
    "# Create a new DataFrame to store the results\n",
    "result_df = pd.DataFrame()\n",
    "\n",
    "# Run the loop for each batch\n",
    "for iteration in range(num_iterations):\n",
    "    start_index = iteration * batch_size\n",
    "    end_index = min((iteration + 1) * batch_size, len(pd_preds))\n",
    "\n",
    "    # Extract the current batch\n",
    "    current_batch = pd_preds.iloc[start_index:end_index]\n",
    "\n",
    "    # Run the code for the current batch\n",
    "    pred_fl_5_name_va = pred_fl_reg_name_five_cat(current_batch, \"last_name\", \"first_name\")\n",
    "    pred_fl_5_name_va = pred_fl_5_name_va.drop(columns=drop_columns)\n",
    "    \n",
    "    new_column_names5 = [pred_fl_5_name_prefix + column for column in pred_fl_5_name_va.columns]\n",
    "    pred_fl_5_name_va.columns = new_column_names5\n",
    "    \n",
    "    # Append the result to the new DataFrame\n",
    "    result_df = result_df.append(pred_fl_5_name_va, ignore_index=True)\n",
    "\n",
    "# Display the final result DataFrame\n",
    "print(\"Final Result:\")"
   ]
  },
  {
   "cell_type": "code",
   "execution_count": 20,
   "id": "0b6db0e5-3a9a-4032-86cf-82ea7a325b8d",
   "metadata": {
    "execution": {
     "iopub.execute_input": "2024-01-10T17:06:58.995417Z",
     "iopub.status.busy": "2024-01-10T17:06:58.994496Z",
     "iopub.status.idle": "2024-01-10T17:06:59.046466Z",
     "shell.execute_reply": "2024-01-10T17:06:59.045641Z",
     "shell.execute_reply.started": "2024-01-10T17:06:58.995377Z"
    },
    "tags": []
   },
   "outputs": [
    {
     "data": {
      "application/vnd.jupyter.widget-view+json": {
       "model_id": "bb3365dddab54cd889decf0341e5f6d7",
       "version_major": 2,
       "version_minor": 0
      },
      "text/plain": [
       "VBox()"
      ]
     },
     "metadata": {},
     "output_type": "display_data"
    },
    {
     "data": {
      "application/vnd.jupyter.widget-view+json": {
       "model_id": "",
       "version_major": 2,
       "version_minor": 0
      },
      "text/plain": [
       "FloatProgress(value=0.0, bar_style='info', description='Progress:', layout=Layout(height='25px', width='50%'),…"
      ]
     },
     "metadata": {},
     "output_type": "display_data"
    }
   ],
   "source": [
    "pred_fl_5_name_match = result_df\n",
    "new_column_names5 = {'pred_fl_5_full_name': 'full_name'}\n",
    "pred_fl_5_name_match.rename(columns=new_column_names5, inplace=True)"
   ]
  },
  {
   "cell_type": "code",
   "execution_count": 21,
   "id": "c1ff85bd-1f8a-4116-9ecc-71b0fc7797a2",
   "metadata": {
    "execution": {
     "iopub.execute_input": "2024-01-10T17:06:59.048400Z",
     "iopub.status.busy": "2024-01-10T17:06:59.047861Z",
     "iopub.status.idle": "2024-01-10T17:06:59.114633Z",
     "shell.execute_reply": "2024-01-10T17:06:59.111037Z",
     "shell.execute_reply.started": "2024-01-10T17:06:59.048359Z"
    },
    "tags": []
   },
   "outputs": [
    {
     "data": {
      "application/vnd.jupyter.widget-view+json": {
       "model_id": "9051f551a9a64c05b7dc9c94112a09e3",
       "version_major": 2,
       "version_minor": 0
      },
      "text/plain": [
       "VBox()"
      ]
     },
     "metadata": {},
     "output_type": "display_data"
    },
    {
     "data": {
      "application/vnd.jupyter.widget-view+json": {
       "model_id": "",
       "version_major": 2,
       "version_minor": 0
      },
      "text/plain": [
       "FloatProgress(value=0.0, bar_style='info', description='Progress:', layout=Layout(height='25px', width='50%'),…"
      ]
     },
     "metadata": {},
     "output_type": "display_data"
    }
   ],
   "source": [
    "ethnicolr_race = pred_fl_5_name_match[[\"full_name\", \"pred_fl_5_race\"]]"
   ]
  },
  {
   "cell_type": "code",
   "execution_count": 22,
   "id": "054bdbd6-81fa-465f-aa7c-aacc44eb73b7",
   "metadata": {
    "execution": {
     "iopub.execute_input": "2024-01-10T17:06:59.118295Z",
     "iopub.status.busy": "2024-01-10T17:06:59.117968Z",
     "iopub.status.idle": "2024-01-10T17:07:02.416948Z",
     "shell.execute_reply": "2024-01-10T17:07:02.415991Z",
     "shell.execute_reply.started": "2024-01-10T17:06:59.118257Z"
    },
    "tags": []
   },
   "outputs": [
    {
     "data": {
      "application/vnd.jupyter.widget-view+json": {
       "model_id": "e08d9cb07c964bc59eef339dd6d8ab34",
       "version_major": 2,
       "version_minor": 0
      },
      "text/plain": [
       "VBox()"
      ]
     },
     "metadata": {},
     "output_type": "display_data"
    },
    {
     "data": {
      "application/vnd.jupyter.widget-view+json": {
       "model_id": "",
       "version_major": 2,
       "version_minor": 0
      },
      "text/plain": [
       "FloatProgress(value=0.0, bar_style='info', description='Progress:', layout=Layout(height='25px', width='50%'),…"
      ]
     },
     "metadata": {},
     "output_type": "display_data"
    }
   ],
   "source": [
    "ethnicolr_race_match = spark.createDataFrame(ethnicolr_race)"
   ]
  },
  {
   "cell_type": "code",
   "execution_count": 23,
   "id": "a9d2d047-1e8e-412c-b1e2-4732f5690a8b",
   "metadata": {
    "execution": {
     "iopub.execute_input": "2024-01-10T17:07:02.428623Z",
     "iopub.status.busy": "2024-01-10T17:07:02.421286Z",
     "iopub.status.idle": "2024-01-10T17:07:05.724638Z",
     "shell.execute_reply": "2024-01-10T17:07:05.723781Z",
     "shell.execute_reply.started": "2024-01-10T17:07:02.428580Z"
    },
    "tags": []
   },
   "outputs": [
    {
     "data": {
      "application/vnd.jupyter.widget-view+json": {
       "model_id": "70ba849a2b8644c1b9f4080e2244686d",
       "version_major": 2,
       "version_minor": 0
      },
      "text/plain": [
       "VBox()"
      ]
     },
     "metadata": {},
     "output_type": "display_data"
    },
    {
     "data": {
      "application/vnd.jupyter.widget-view+json": {
       "model_id": "",
       "version_major": 2,
       "version_minor": 0
      },
      "text/plain": [
       "FloatProgress(value=0.0, bar_style='info', description='Progress:', layout=Layout(height='25px', width='50%'),…"
      ]
     },
     "metadata": {},
     "output_type": "display_data"
    },
    {
     "name": "stdout",
     "output_type": "stream",
     "text": [
      "96100"
     ]
    }
   ],
   "source": [
    "ethnicolr_race_match.count()"
   ]
  },
  {
   "cell_type": "code",
   "execution_count": 24,
   "id": "6b6cd408-e219-4587-ab87-e334eb51af29",
   "metadata": {
    "execution": {
     "iopub.execute_input": "2024-01-10T17:07:05.725877Z",
     "iopub.status.busy": "2024-01-10T17:07:05.725651Z",
     "iopub.status.idle": "2024-01-10T17:07:05.969459Z",
     "shell.execute_reply": "2024-01-10T17:07:05.968698Z",
     "shell.execute_reply.started": "2024-01-10T17:07:05.725853Z"
    },
    "tags": []
   },
   "outputs": [
    {
     "data": {
      "application/vnd.jupyter.widget-view+json": {
       "model_id": "dfd00fd0cff445f690304e96dc017742",
       "version_major": 2,
       "version_minor": 0
      },
      "text/plain": [
       "VBox()"
      ]
     },
     "metadata": {},
     "output_type": "display_data"
    },
    {
     "data": {
      "application/vnd.jupyter.widget-view+json": {
       "model_id": "",
       "version_major": 2,
       "version_minor": 0
      },
      "text/plain": [
       "FloatProgress(value=0.0, bar_style='info', description='Progress:', layout=Layout(height='25px', width='50%'),…"
      ]
     },
     "metadata": {},
     "output_type": "display_data"
    }
   ],
   "source": [
    "final_sample_data = sample_data_final.join(ethnicolr_race_match, on = \"full_name\", how =\"left\")"
   ]
  },
  {
   "cell_type": "code",
   "execution_count": 25,
   "id": "2f3b5477-77a5-4e78-972e-facebec49f40",
   "metadata": {
    "execution": {
     "iopub.execute_input": "2024-01-10T17:07:05.975665Z",
     "iopub.status.busy": "2024-01-10T17:07:05.975140Z",
     "iopub.status.idle": "2024-01-10T17:07:06.219927Z",
     "shell.execute_reply": "2024-01-10T17:07:06.219224Z",
     "shell.execute_reply.started": "2024-01-10T17:07:05.975633Z"
    },
    "tags": []
   },
   "outputs": [
    {
     "data": {
      "application/vnd.jupyter.widget-view+json": {
       "model_id": "6130eea4441f49a6829ed5b2e101aebc",
       "version_major": 2,
       "version_minor": 0
      },
      "text/plain": [
       "VBox()"
      ]
     },
     "metadata": {},
     "output_type": "display_data"
    },
    {
     "data": {
      "application/vnd.jupyter.widget-view+json": {
       "model_id": "",
       "version_major": 2,
       "version_minor": 0
      },
      "text/plain": [
       "FloatProgress(value=0.0, bar_style='info', description='Progress:', layout=Layout(height='25px', width='50%'),…"
      ]
     },
     "metadata": {},
     "output_type": "display_data"
    }
   ],
   "source": [
    "final_sample_data = final_sample_data.withColumn(\"p_race\", when(col(\"pred_fl_5_race\") == \"nh_black\", \"black\").otherwise(\"other\"))"
   ]
  },
  {
   "cell_type": "code",
   "execution_count": 26,
   "id": "3e98b01a-6efb-41a2-96f0-c69043c781f2",
   "metadata": {
    "execution": {
     "iopub.execute_input": "2024-01-10T17:07:06.221780Z",
     "iopub.status.busy": "2024-01-10T17:07:06.221553Z",
     "iopub.status.idle": "2024-01-10T17:07:27.547469Z",
     "shell.execute_reply": "2024-01-10T17:07:27.546663Z",
     "shell.execute_reply.started": "2024-01-10T17:07:06.221757Z"
    },
    "tags": []
   },
   "outputs": [
    {
     "data": {
      "application/vnd.jupyter.widget-view+json": {
       "model_id": "d3da5d8935804aee93a7e35f3a34b70a",
       "version_major": 2,
       "version_minor": 0
      },
      "text/plain": [
       "VBox()"
      ]
     },
     "metadata": {},
     "output_type": "display_data"
    },
    {
     "data": {
      "application/vnd.jupyter.widget-view+json": {
       "model_id": "",
       "version_major": 2,
       "version_minor": 0
      },
      "text/plain": [
       "FloatProgress(value=0.0, bar_style='info', description='Progress:', layout=Layout(height='25px', width='50%'),…"
      ]
     },
     "metadata": {},
     "output_type": "display_data"
    },
    {
     "name": "stdout",
     "output_type": "stream",
     "text": [
      "99264"
     ]
    }
   ],
   "source": [
    "final_sample_data.count()"
   ]
  },
  {
   "cell_type": "code",
   "execution_count": 27,
   "id": "e58fd94b-c96f-4379-88af-7f8995e15115",
   "metadata": {
    "execution": {
     "iopub.execute_input": "2024-01-10T17:07:27.548673Z",
     "iopub.status.busy": "2024-01-10T17:07:27.548455Z",
     "iopub.status.idle": "2024-01-10T17:07:38.838583Z",
     "shell.execute_reply": "2024-01-10T17:07:38.837900Z",
     "shell.execute_reply.started": "2024-01-10T17:07:27.548651Z"
    },
    "tags": []
   },
   "outputs": [
    {
     "data": {
      "application/vnd.jupyter.widget-view+json": {
       "model_id": "f980715c74f641f1844cc9e81f3eea68",
       "version_major": 2,
       "version_minor": 0
      },
      "text/plain": [
       "VBox()"
      ]
     },
     "metadata": {},
     "output_type": "display_data"
    },
    {
     "data": {
      "application/vnd.jupyter.widget-view+json": {
       "model_id": "",
       "version_major": 2,
       "version_minor": 0
      },
      "text/plain": [
       "FloatProgress(value=0.0, bar_style='info', description='Progress:', layout=Layout(height='25px', width='50%'),…"
      ]
     },
     "metadata": {},
     "output_type": "display_data"
    },
    {
     "name": "stdout",
     "output_type": "stream",
     "text": [
      "99264"
     ]
    }
   ],
   "source": [
    "sample_data_final.count()"
   ]
  },
  {
   "cell_type": "code",
   "execution_count": 28,
   "id": "40d2528e-d222-46f7-a2b3-1128f9a7bdd7",
   "metadata": {
    "execution": {
     "iopub.execute_input": "2024-01-10T17:07:38.839765Z",
     "iopub.status.busy": "2024-01-10T17:07:38.839528Z",
     "iopub.status.idle": "2024-01-10T17:07:39.084448Z",
     "shell.execute_reply": "2024-01-10T17:07:39.083660Z",
     "shell.execute_reply.started": "2024-01-10T17:07:38.839742Z"
    },
    "tags": []
   },
   "outputs": [
    {
     "data": {
      "application/vnd.jupyter.widget-view+json": {
       "model_id": "2721c0bbb2f34c76b08aede6fd36da1d",
       "version_major": 2,
       "version_minor": 0
      },
      "text/plain": [
       "VBox()"
      ]
     },
     "metadata": {},
     "output_type": "display_data"
    },
    {
     "data": {
      "application/vnd.jupyter.widget-view+json": {
       "model_id": "",
       "version_major": 2,
       "version_minor": 0
      },
      "text/plain": [
       "FloatProgress(value=0.0, bar_style='info', description='Progress:', layout=Layout(height='25px', width='50%'),…"
      ]
     },
     "metadata": {},
     "output_type": "display_data"
    }
   ],
   "source": [
    "full_races = acxiom_features.groupBy(F.col(\"race_code_low_detail_ibe3101\")).count()\n",
    "sample_races = final_sample_data.groupBy(F.col(\"race_code_low_detail_ibe3101\")).count()\n",
    "# countries = acxiom.groupBy(F.col(\"country_of_origin_high_detail_ibe3102\")).count()\n",
    "# countries = countries.orderBy(countries['count'].desc())\n",
    "sample_races = sample_races.orderBy(sample_races['count'].desc())\n",
    "full_races = full_races.orderBy(full_races['count'].desc())"
   ]
  },
  {
   "cell_type": "code",
   "execution_count": 29,
   "id": "a0d57e76-8b6c-4e08-9be3-a96be0560d86",
   "metadata": {
    "execution": {
     "iopub.execute_input": "2024-01-10T17:07:39.086022Z",
     "iopub.status.busy": "2024-01-10T17:07:39.085684Z",
     "iopub.status.idle": "2024-01-10T17:08:20.467794Z",
     "shell.execute_reply": "2024-01-10T17:08:20.466906Z",
     "shell.execute_reply.started": "2024-01-10T17:07:39.085986Z"
    },
    "tags": []
   },
   "outputs": [
    {
     "data": {
      "application/vnd.jupyter.widget-view+json": {
       "model_id": "51f3905ec19b461cabb0b12c8681161b",
       "version_major": 2,
       "version_minor": 0
      },
      "text/plain": [
       "VBox()"
      ]
     },
     "metadata": {},
     "output_type": "display_data"
    },
    {
     "data": {
      "application/vnd.jupyter.widget-view+json": {
       "model_id": "",
       "version_major": 2,
       "version_minor": 0
      },
      "text/plain": [
       "FloatProgress(value=0.0, bar_style='info', description='Progress:', layout=Layout(height='25px', width='50%'),…"
      ]
     },
     "metadata": {},
     "output_type": "display_data"
    },
    {
     "name": "stdout",
     "output_type": "stream",
     "text": [
      "+----------------------------+-----+----------+\n",
      "|race_code_low_detail_ibe3101|count|percentage|\n",
      "+----------------------------+-----+----------+\n",
      "|Black or African American   |49105|49.47     |\n",
      "|White/Other                 |33356|33.6      |\n",
      "|Hispanic                    |9985 |10.06     |\n",
      "|Asian                       |5217 |5.26      |\n",
      "|null                        |1601 |1.61      |\n",
      "+----------------------------+-----+----------+"
     ]
    }
   ],
   "source": [
    "total_count = sample_races.agg({\"count\": \"sum\"}).collect()[0][0]\n",
    "\n",
    "# Add a new column with the percentage of the total for each row\n",
    "sample_races = sample_races.withColumn(\"percentage\", round((col(\"count\") / total_count) * 100, 2))\n",
    "\n",
    "sample_races.show(20, False)"
   ]
  },
  {
   "cell_type": "code",
   "execution_count": 30,
   "id": "65f30f91-d2fb-4ed1-a2d5-2af34656754c",
   "metadata": {
    "execution": {
     "iopub.execute_input": "2024-01-10T17:08:20.469081Z",
     "iopub.status.busy": "2024-01-10T17:08:20.468825Z",
     "iopub.status.idle": "2024-01-10T17:08:21.220369Z",
     "shell.execute_reply": "2024-01-10T17:08:21.219472Z",
     "shell.execute_reply.started": "2024-01-10T17:08:20.469057Z"
    },
    "tags": []
   },
   "outputs": [
    {
     "data": {
      "application/vnd.jupyter.widget-view+json": {
       "model_id": "70dc0d7126c64efcab3b03a48c8c54f5",
       "version_major": 2,
       "version_minor": 0
      },
      "text/plain": [
       "VBox()"
      ]
     },
     "metadata": {},
     "output_type": "display_data"
    },
    {
     "data": {
      "application/vnd.jupyter.widget-view+json": {
       "model_id": "",
       "version_major": 2,
       "version_minor": 0
      },
      "text/plain": [
       "FloatProgress(value=0.0, bar_style='info', description='Progress:', layout=Layout(height='25px', width='50%'),…"
      ]
     },
     "metadata": {},
     "output_type": "display_data"
    }
   ],
   "source": [
    "filled_final_sample_data_cat = final_sample_data.withColumn(\"first_name__middle_initial__gender_1st_person_in_household_first_name_ibe8610_01\", when(col(\"first_name__middle_initial__gender_1st_person_in_household_first_name_ibe8610_01\").isNull(), \"unknown\").otherwise(col(\"first_name__middle_initial__gender_1st_person_in_household_first_name_ibe8610_01\")))\n",
    "filled_final_sample_data_cat = filled_final_sample_data_cat.withColumn(\"input_last_name_3131\", when(col(\"input_last_name_3131\").isNull(), \"unknown\").otherwise(col(\"input_last_name_3131\")))\n",
    "filled_final_sample_data_cat = filled_final_sample_data_cat.withColumn(\"first_name__middle_initial__gender_1st_person_in_household_gender_ibe8610_03\", when(col(\"first_name__middle_initial__gender_1st_person_in_household_gender_ibe8610_03\").isNull(), \"Unknown\").otherwise(col(\"first_name__middle_initial__gender_1st_person_in_household_gender_ibe8610_03\")))\n",
    "filled_final_sample_data_cat = filled_final_sample_data_cat.withColumn(\"personicx_lifestage_segment_code_px001270_01\", when(col(\"personicx_lifestage_segment_code_px001270_01\").isNull(), \"unknown\").otherwise(col(\"personicx_lifestage_segment_code_px001270_01\")))\n",
    "filled_final_sample_data_cat = filled_final_sample_data_cat.withColumn(\"geo_federal_congressional_district_code_ibe2403_01\", when(col(\"geo_federal_congressional_district_code_ibe2403_01\").isNull(), \"unknown\").otherwise(col(\"geo_federal_congressional_district_code_ibe2403_01\")))\n",
    "filled_final_sample_data_cat = filled_final_sample_data_cat.withColumn(\"heavy_transactors_ibe9358\", when(col(\"heavy_transactors_ibe9358\").isNull(), \"unknown\").otherwise(col(\"heavy_transactors_ibe9358\")))\n",
    "filled_final_sample_data_cat = filled_final_sample_data_cat.withColumn(\"underbanked_ibe9351\", when(col(\"underbanked_ibe9351\").isNull(), \"unknown\").otherwise(col(\"underbanked_ibe9351\")))\n",
    "filled_final_sample_data_cat = filled_final_sample_data_cat.withColumn(\"economic_stability_indicator_esi_ibe9350\", when(col(\"economic_stability_indicator_esi_ibe9350\").isNull(), \"unknown\").otherwise(col(\"economic_stability_indicator_esi_ibe9350\")))\n",
    "filled_final_sample_data_cat = filled_final_sample_data_cat.withColumn(\"used_multiple_formula_with_minerals_in_the_last_6_months_ap000924\", when(col(\"used_multiple_formula_with_minerals_in_the_last_6_months_ap000924\").isNull(), \"unknown\").otherwise(col(\"used_multiple_formula_with_minerals_in_the_last_6_months_ap000924\")))\n",
    "filled_final_sample_data_cat = filled_final_sample_data_cat.withColumn(\"never_or_rarely_carry_a_balance_on_a_credit_card_financial_ap004921\", when(col(\"never_or_rarely_carry_a_balance_on_a_credit_card_financial_ap004921\").isNull(), \"unknown\").otherwise(col(\"never_or_rarely_carry_a_balance_on_a_credit_card_financial_ap004921\")))\n",
    "filled_final_sample_data_cat = filled_final_sample_data_cat.withColumn(\"i_use_tv_media_for_information_and_inspiration_ap001578\", when(col(\"i_use_tv_media_for_information_and_inspiration_ap001578\").isNull(), \"unknown\").otherwise(col(\"i_use_tv_media_for_information_and_inspiration_ap001578\")))"
   ]
  },
  {
   "cell_type": "code",
   "execution_count": 31,
   "id": "a780a0ae-3a57-4b4d-9ede-3c8cdf39c2ac",
   "metadata": {
    "execution": {
     "iopub.execute_input": "2024-01-10T17:08:21.222110Z",
     "iopub.status.busy": "2024-01-10T17:08:21.221729Z",
     "iopub.status.idle": "2024-01-10T17:08:21.271183Z",
     "shell.execute_reply": "2024-01-10T17:08:21.270400Z",
     "shell.execute_reply.started": "2024-01-10T17:08:21.222073Z"
    },
    "tags": []
   },
   "outputs": [
    {
     "data": {
      "application/vnd.jupyter.widget-view+json": {
       "model_id": "a343e11e017c4fb492e7bc48b42c23ff",
       "version_major": 2,
       "version_minor": 0
      },
      "text/plain": [
       "VBox()"
      ]
     },
     "metadata": {},
     "output_type": "display_data"
    },
    {
     "data": {
      "application/vnd.jupyter.widget-view+json": {
       "model_id": "",
       "version_major": 2,
       "version_minor": 0
      },
      "text/plain": [
       "FloatProgress(value=0.0, bar_style='info', description='Progress:', layout=Layout(height='25px', width='50%'),…"
      ]
     },
     "metadata": {},
     "output_type": "display_data"
    }
   ],
   "source": [
    "# check = filled_final_sample_data_cat.groupBy(F.col(\"first_name__middle_initial__gender_1st_person_in_household_gender_ibe8610_03\")).count()\n",
    "# check.show()"
   ]
  },
  {
   "cell_type": "code",
   "execution_count": 32,
   "id": "0cd6e27b-9565-4d0b-a435-be3c0b47f0cb",
   "metadata": {
    "execution": {
     "iopub.execute_input": "2024-01-10T17:08:21.273212Z",
     "iopub.status.busy": "2024-01-10T17:08:21.272523Z",
     "iopub.status.idle": "2024-01-10T17:08:21.318510Z",
     "shell.execute_reply": "2024-01-10T17:08:21.317854Z",
     "shell.execute_reply.started": "2024-01-10T17:08:21.273172Z"
    },
    "tags": []
   },
   "outputs": [
    {
     "data": {
      "application/vnd.jupyter.widget-view+json": {
       "model_id": "08bf86c8662b4cd486836c63bcfd46a1",
       "version_major": 2,
       "version_minor": 0
      },
      "text/plain": [
       "VBox()"
      ]
     },
     "metadata": {},
     "output_type": "display_data"
    },
    {
     "data": {
      "application/vnd.jupyter.widget-view+json": {
       "model_id": "",
       "version_major": 2,
       "version_minor": 0
      },
      "text/plain": [
       "FloatProgress(value=0.0, bar_style='info', description='Progress:', layout=Layout(height='25px', width='50%'),…"
      ]
     },
     "metadata": {},
     "output_type": "display_data"
    }
   ],
   "source": [
    "# filled_final_sample_data_num = final_sample_data.withColumn(\"first_name__middle_initial__gender_1st_person_in_household_first_name_ibe8610_01\", when(col(\"first_name__middle_initial__gender_1st_person_in_household_first_name_ibe8610_01\").isNull(), 0).otherwise(col(\"first_name__middle_initial__gender_1st_person_in_household_first_name_ibe8610_01\")))\n",
    "# filled_final_sample_data_num = filled_final_sample_data_num.withColumn(\"first_name__middle_initial__gender_1st_person_in_household_gender_ibe8610_03\", when(col(\"first_name__middle_initial__gender_1st_person_in_household_gender_ibe8610_03\").isNull(), 0).otherwise(col(\"first_name__middle_initial__gender_1st_person_in_household_gender_ibe8610_03\")))\n",
    "# filled_final_sample_data_num = filled_final_sample_data_num.withColumn(\"personicx_lifestage_segment_code_px001270_01\", when(col(\"personicx_lifestage_segment_code_px001270_01\").isNull(), 0).otherwise(col(\"personicx_lifestage_segment_code_px001270_01\")))\n",
    "# filled_final_sample_data_num = filled_final_sample_data_num.withColumn(\"geo_federal_congressional_district_code_ibe2403_01\", when(col(\"geo_federal_congressional_district_code_ibe2403_01\").isNull(), 0).otherwise(col(\"geo_federal_congressional_district_code_ibe2403_01\")))\n",
    "# filled_final_sample_data_num = filled_final_sample_data_num.withColumn(\"heavy_transactors_ibe9358\", when(col(\"heavy_transactors_ibe9358\").isNull(), 0).otherwise(col(\"heavy_transactors_ibe9358\")))\n",
    "# filled_final_sample_data_num = filled_final_sample_data_num.withColumn(\"underbanked_ibe9351\", when(col(\"underbanked_ibe9351\").isNull(), 0).otherwise(col(\"underbanked_ibe9351\")))\n",
    "# filled_final_sample_data_num = filled_final_sample_data_num.withColumn(\"economic_stability_indicator_esi_ibe9350\", when(col(\"economic_stability_indicator_esi_ibe9350\").isNull(), 0).otherwise(col(\"economic_stability_indicator_esi_ibe9350\")))\n",
    "# filled_final_sample_data_num = filled_final_sample_data_num.withColumn(\"used_multiple_formula_with_minerals_in_the_last_6_months_ap000924\", when(col(\"used_multiple_formula_with_minerals_in_the_last_6_months_ap000924\").isNull(), 0).otherwise(col(\"used_multiple_formula_with_minerals_in_the_last_6_months_ap000924\")))\n",
    "# filled_final_sample_data_num = filled_final_sample_data_num.withColumn(\"never_or_rarely_carry_a_balance_on_a_credit_card_financial_ap004921\", when(col(\"never_or_rarely_carry_a_balance_on_a_credit_card_financial_ap004921\").isNull(), 0).otherwise(col(\"never_or_rarely_carry_a_balance_on_a_credit_card_financial_ap004921\")))\n",
    "# filled_final_sample_data_num = filled_final_sample_data_num.withColumn(\"i_use_tv_media_for_information_and_inspiration_ap001578\", when(col(\"i_use_tv_media_for_information_and_inspiration_ap001578\").isNull(), 0).otherwise(col(\"i_use_tv_media_for_information_and_inspiration_ap001578\")))"
   ]
  },
  {
   "cell_type": "code",
   "execution_count": 33,
   "id": "2be0a3b1-dfb3-4e6e-a11f-cf0ceda5e199",
   "metadata": {
    "execution": {
     "iopub.execute_input": "2024-01-10T17:08:21.319718Z",
     "iopub.status.busy": "2024-01-10T17:08:21.319484Z",
     "iopub.status.idle": "2024-01-10T17:08:21.366452Z",
     "shell.execute_reply": "2024-01-10T17:08:21.365746Z",
     "shell.execute_reply.started": "2024-01-10T17:08:21.319695Z"
    },
    "tags": []
   },
   "outputs": [
    {
     "data": {
      "application/vnd.jupyter.widget-view+json": {
       "model_id": "b84244d312284352b18cdbe403d92a70",
       "version_major": 2,
       "version_minor": 0
      },
      "text/plain": [
       "VBox()"
      ]
     },
     "metadata": {},
     "output_type": "display_data"
    },
    {
     "data": {
      "application/vnd.jupyter.widget-view+json": {
       "model_id": "",
       "version_major": 2,
       "version_minor": 0
      },
      "text/plain": [
       "FloatProgress(value=0.0, bar_style='info', description='Progress:', layout=Layout(height='25px', width='50%'),…"
      ]
     },
     "metadata": {},
     "output_type": "display_data"
    }
   ],
   "source": [
    "# Define the features and label columns\n",
    "categorical_feature_columns = [\"input_last_name_3131\", \"geo_federal_congressional_district_code_ibe2403_01\", \"personicx_lifestage_segment_code_px001270_01\", \"first_name__middle_initial__gender_1st_person_in_household_gender_ibe8610_03\", \n",
    "                               \"first_name__middle_initial__gender_1st_person_in_household_first_name_ibe8610_01\", \"heavy_transactors_ibe9358\", \"underbanked_ibe9351\", \"economic_stability_indicator_esi_ibe9350\", \"used_multiple_formula_with_minerals_in_the_last_6_months_ap000924\", \n",
    "                               \"never_or_rarely_carry_a_balance_on_a_credit_card_financial_ap004921\", \"i_use_tv_media_for_information_and_inspiration_ap001578\", \"p_race\"]  # List the names of your feature columns\n",
    "\n",
    "\n",
    "#  \n",
    "label_column = \"likely_member\"  # Name of your label column"
   ]
  },
  {
   "cell_type": "code",
   "execution_count": 34,
   "id": "6257499b-2bc5-4a7e-acfe-c02b02177644",
   "metadata": {
    "execution": {
     "iopub.execute_input": "2024-01-10T17:08:21.367671Z",
     "iopub.status.busy": "2024-01-10T17:08:21.367415Z",
     "iopub.status.idle": "2024-01-10T17:08:21.616002Z",
     "shell.execute_reply": "2024-01-10T17:08:21.615308Z",
     "shell.execute_reply.started": "2024-01-10T17:08:21.367646Z"
    },
    "tags": []
   },
   "outputs": [
    {
     "data": {
      "application/vnd.jupyter.widget-view+json": {
       "model_id": "a97db03a85c44dee94647f71c5538637",
       "version_major": 2,
       "version_minor": 0
      },
      "text/plain": [
       "VBox()"
      ]
     },
     "metadata": {},
     "output_type": "display_data"
    },
    {
     "data": {
      "application/vnd.jupyter.widget-view+json": {
       "model_id": "",
       "version_major": 2,
       "version_minor": 0
      },
      "text/plain": [
       "FloatProgress(value=0.0, bar_style='info', description='Progress:', layout=Layout(height='25px', width='50%'),…"
      ]
     },
     "metadata": {},
     "output_type": "display_data"
    }
   ],
   "source": [
    "indexers = [StringIndexer(inputCol=col, outputCol=col+\"_index\", handleInvalid=\"keep\") for col in categorical_feature_columns]\n",
    "encoder = [OneHotEncoder(inputCol=col+\"_index\", outputCol=col+\"_encoded\") for col in categorical_feature_columns]"
   ]
  },
  {
   "cell_type": "code",
   "execution_count": 35,
   "id": "8b32059d-41c0-45fe-812d-4f17cea5ffe4",
   "metadata": {
    "execution": {
     "iopub.execute_input": "2024-01-10T17:08:21.617195Z",
     "iopub.status.busy": "2024-01-10T17:08:21.616939Z",
     "iopub.status.idle": "2024-01-10T17:12:58.109227Z",
     "shell.execute_reply": "2024-01-10T17:12:58.108429Z",
     "shell.execute_reply.started": "2024-01-10T17:08:21.617172Z"
    },
    "tags": []
   },
   "outputs": [
    {
     "data": {
      "application/vnd.jupyter.widget-view+json": {
       "model_id": "de75e74e78ff40b3912e7314dec514e6",
       "version_major": 2,
       "version_minor": 0
      },
      "text/plain": [
       "VBox()"
      ]
     },
     "metadata": {},
     "output_type": "display_data"
    },
    {
     "data": {
      "application/vnd.jupyter.widget-view+json": {
       "model_id": "",
       "version_major": 2,
       "version_minor": 0
      },
      "text/plain": [
       "FloatProgress(value=0.0, bar_style='info', description='Progress:', layout=Layout(height='25px', width='50%'),…"
      ]
     },
     "metadata": {},
     "output_type": "display_data"
    }
   ],
   "source": [
    "stages = indexers + encoder\n",
    "\n",
    "# Create a Pipeline\n",
    "pipeline = Pipeline(stages=stages)\n",
    "\n",
    "# Fit and transform the data using the pipeline\n",
    "pipeline_model = pipeline.fit(filled_final_sample_data_cat)\n",
    "data_encoded = pipeline_model.transform(filled_final_sample_data_cat)"
   ]
  },
  {
   "cell_type": "code",
   "execution_count": 36,
   "id": "0585bb01-7153-4012-94e1-73695ac887cf",
   "metadata": {
    "execution": {
     "iopub.execute_input": "2024-01-10T17:12:58.110456Z",
     "iopub.status.busy": "2024-01-10T17:12:58.110216Z",
     "iopub.status.idle": "2024-01-10T17:13:10.059750Z",
     "shell.execute_reply": "2024-01-10T17:13:09.591804Z",
     "shell.execute_reply.started": "2024-01-10T17:12:58.110431Z"
    },
    "tags": []
   },
   "outputs": [
    {
     "data": {
      "application/vnd.jupyter.widget-view+json": {
       "model_id": "0f8fbba5f3d248caa07d9353fd160667",
       "version_major": 2,
       "version_minor": 0
      },
      "text/plain": [
       "VBox()"
      ]
     },
     "metadata": {},
     "output_type": "display_data"
    },
    {
     "data": {
      "application/vnd.jupyter.widget-view+json": {
       "model_id": "",
       "version_major": 2,
       "version_minor": 0
      },
      "text/plain": [
       "FloatProgress(value=0.0, bar_style='info', description='Progress:', layout=Layout(height='25px', width='50%'),…"
      ]
     },
     "metadata": {},
     "output_type": "display_data"
    }
   ],
   "source": [
    "pipeline_model_path = \"Ethnicolr/pipeline_model\"\n",
    "pipeline_model.write().overwrite().save(pipeline_model_path)"
   ]
  },
  {
   "cell_type": "code",
   "execution_count": 37,
   "id": "5ec1ce05-63c9-402a-b208-00ac27a8554f",
   "metadata": {
    "execution": {
     "iopub.execute_input": "2024-01-10T17:13:10.065955Z",
     "iopub.status.busy": "2024-01-10T17:13:10.065467Z",
     "iopub.status.idle": "2024-01-10T17:13:10.794755Z",
     "shell.execute_reply": "2024-01-10T17:13:10.645700Z",
     "shell.execute_reply.started": "2024-01-10T17:13:10.065915Z"
    },
    "tags": []
   },
   "outputs": [
    {
     "data": {
      "application/vnd.jupyter.widget-view+json": {
       "model_id": "d34f6d66b0e7466d9fbca974afb7ca0f",
       "version_major": 2,
       "version_minor": 0
      },
      "text/plain": [
       "VBox()"
      ]
     },
     "metadata": {},
     "output_type": "display_data"
    },
    {
     "data": {
      "application/vnd.jupyter.widget-view+json": {
       "model_id": "",
       "version_major": 2,
       "version_minor": 0
      },
      "text/plain": [
       "FloatProgress(value=0.0, bar_style='info', description='Progress:', layout=Layout(height='25px', width='50%'),…"
      ]
     },
     "metadata": {},
     "output_type": "display_data"
    }
   ],
   "source": [
    "data_encoded = data_encoded.select(\"full_name\", \"input_last_name_3131_encoded\", \"geo_federal_congressional_district_code_ibe2403_01_encoded\", \"personicx_lifestage_segment_code_px001270_01_encoded\", \"first_name__middle_initial__gender_1st_person_in_household_gender_ibe8610_03_encoded\", \n",
    "                                   \"first_name__middle_initial__gender_1st_person_in_household_first_name_ibe8610_01_encoded\", \"heavy_transactors_ibe9358_encoded\", \"underbanked_ibe9351_encoded\", \"economic_stability_indicator_esi_ibe9350_encoded\", \"used_multiple_formula_with_minerals_in_the_last_6_months_ap000924_encoded\",\n",
    "                                   \"never_or_rarely_carry_a_balance_on_a_credit_card_financial_ap004921_encoded\", \"i_use_tv_media_for_information_and_inspiration_ap001578_encoded\", \"p_race_encoded\", \"p_race\",\"likely_member\")\n",
    "\n",
    "# "
   ]
  },
  {
   "cell_type": "code",
   "execution_count": 38,
   "id": "6bfe7a3b-3520-4e4f-b8ed-d6d127fd45de",
   "metadata": {
    "execution": {
     "iopub.execute_input": "2024-01-10T17:13:10.813730Z",
     "iopub.status.busy": "2024-01-10T17:13:10.810261Z",
     "iopub.status.idle": "2024-01-10T17:13:11.696701Z",
     "shell.execute_reply": "2024-01-10T17:13:11.695862Z",
     "shell.execute_reply.started": "2024-01-10T17:13:10.813701Z"
    },
    "tags": []
   },
   "outputs": [
    {
     "data": {
      "application/vnd.jupyter.widget-view+json": {
       "model_id": "e827ea07c8804c28aa0022128a713f96",
       "version_major": 2,
       "version_minor": 0
      },
      "text/plain": [
       "VBox()"
      ]
     },
     "metadata": {},
     "output_type": "display_data"
    },
    {
     "data": {
      "application/vnd.jupyter.widget-view+json": {
       "model_id": "",
       "version_major": 2,
       "version_minor": 0
      },
      "text/plain": [
       "FloatProgress(value=0.0, bar_style='info', description='Progress:', layout=Layout(height='25px', width='50%'),…"
      ]
     },
     "metadata": {},
     "output_type": "display_data"
    }
   ],
   "source": [
    "# data_encoded.printSchema()"
   ]
  },
  {
   "cell_type": "code",
   "execution_count": 39,
   "id": "d706b420-14e3-4626-ab5a-d919c2c48d91",
   "metadata": {
    "execution": {
     "iopub.execute_input": "2024-01-10T17:13:11.698051Z",
     "iopub.status.busy": "2024-01-10T17:13:11.697795Z",
     "iopub.status.idle": "2024-01-10T17:13:11.949611Z",
     "shell.execute_reply": "2024-01-10T17:13:11.948737Z",
     "shell.execute_reply.started": "2024-01-10T17:13:11.698014Z"
    },
    "tags": []
   },
   "outputs": [
    {
     "data": {
      "application/vnd.jupyter.widget-view+json": {
       "model_id": "a9bb1481f9044a3798f3dc42754dab84",
       "version_major": 2,
       "version_minor": 0
      },
      "text/plain": [
       "VBox()"
      ]
     },
     "metadata": {},
     "output_type": "display_data"
    },
    {
     "data": {
      "application/vnd.jupyter.widget-view+json": {
       "model_id": "",
       "version_major": 2,
       "version_minor": 0
      },
      "text/plain": [
       "FloatProgress(value=0.0, bar_style='info', description='Progress:', layout=Layout(height='25px', width='50%'),…"
      ]
     },
     "metadata": {},
     "output_type": "display_data"
    }
   ],
   "source": [
    "feature_columns = [\"input_last_name_3131_encoded\", \"geo_federal_congressional_district_code_ibe2403_01_encoded\", \"personicx_lifestage_segment_code_px001270_01_encoded\", \"first_name__middle_initial__gender_1st_person_in_household_gender_ibe8610_03_encoded\", \"first_name__middle_initial__gender_1st_person_in_household_first_name_ibe8610_01_encoded\", \n",
    "                  \"heavy_transactors_ibe9358_encoded\", \"underbanked_ibe9351_encoded\", \"economic_stability_indicator_esi_ibe9350_encoded\", \"used_multiple_formula_with_minerals_in_the_last_6_months_ap000924_encoded\",\n",
    "                   \"never_or_rarely_carry_a_balance_on_a_credit_card_financial_ap004921_encoded\", \"i_use_tv_media_for_information_and_inspiration_ap001578_encoded\", \"p_race_encoded\"]\n",
    " \n",
    "# \n",
    "assembler = VectorAssembler(inputCols=feature_columns, outputCol=\"features\")"
   ]
  },
  {
   "cell_type": "code",
   "execution_count": 40,
   "id": "302e62a8-3a61-4118-951c-13959fad4138",
   "metadata": {
    "execution": {
     "iopub.execute_input": "2024-01-10T17:13:11.951219Z",
     "iopub.status.busy": "2024-01-10T17:13:11.950895Z",
     "iopub.status.idle": "2024-01-10T17:13:12.705962Z",
     "shell.execute_reply": "2024-01-10T17:13:12.705018Z",
     "shell.execute_reply.started": "2024-01-10T17:13:11.951184Z"
    },
    "tags": []
   },
   "outputs": [
    {
     "data": {
      "application/vnd.jupyter.widget-view+json": {
       "model_id": "df9be9d9fc294e8392b58271ce253e92",
       "version_major": 2,
       "version_minor": 0
      },
      "text/plain": [
       "VBox()"
      ]
     },
     "metadata": {},
     "output_type": "display_data"
    },
    {
     "data": {
      "application/vnd.jupyter.widget-view+json": {
       "model_id": "",
       "version_major": 2,
       "version_minor": 0
      },
      "text/plain": [
       "FloatProgress(value=0.0, bar_style='info', description='Progress:', layout=Layout(height='25px', width='50%'),…"
      ]
     },
     "metadata": {},
     "output_type": "display_data"
    }
   ],
   "source": [
    "final_data_encoded = assembler.transform(data_encoded)\n",
    "(training_data, test_data) = final_data_encoded.randomSplit([0.7, 0.3], seed=123)"
   ]
  },
  {
   "cell_type": "code",
   "execution_count": 41,
   "id": "4de610b7-5567-428e-8597-b91669f5d011",
   "metadata": {
    "execution": {
     "iopub.execute_input": "2024-01-10T17:13:12.707292Z",
     "iopub.status.busy": "2024-01-10T17:13:12.707012Z",
     "iopub.status.idle": "2024-01-10T17:55:56.192010Z",
     "shell.execute_reply": "2024-01-10T17:55:56.191286Z",
     "shell.execute_reply.started": "2024-01-10T17:13:12.707264Z"
    },
    "tags": []
   },
   "outputs": [
    {
     "data": {
      "application/vnd.jupyter.widget-view+json": {
       "model_id": "034097cc801e4ecfab9cec149fd35792",
       "version_major": 2,
       "version_minor": 0
      },
      "text/plain": [
       "VBox()"
      ]
     },
     "metadata": {},
     "output_type": "display_data"
    },
    {
     "data": {
      "application/vnd.jupyter.widget-view+json": {
       "model_id": "",
       "version_major": 2,
       "version_minor": 0
      },
      "text/plain": [
       "FloatProgress(value=0.0, bar_style='info', description='Progress:', layout=Layout(height='25px', width='50%'),…"
      ]
     },
     "metadata": {},
     "output_type": "display_data"
    },
    {
     "name": "stdout",
     "output_type": "stream",
     "text": [
      "Area Under ROC = 0.890195"
     ]
    }
   ],
   "source": [
    "lr = LogisticRegression(labelCol=\"likely_member\", featuresCol=\"features\")\n",
    "lr_model = lr.fit(training_data)\n",
    "\n",
    "# Make predictions on the test data\n",
    "lr_predictions = lr_model.transform(test_data)\n",
    "\n",
    "# Evaluate the model's performance\n",
    "auc_evaluator = BinaryClassificationEvaluator(labelCol=\"likely_member\", metricName=\"areaUnderROC\")\n",
    "auc = auc_evaluator.evaluate(lr_predictions)\n",
    "print(\"Area Under ROC = %f\" % auc)"
   ]
  },
  {
   "cell_type": "code",
   "execution_count": 42,
   "id": "f1e820b0-1859-4727-81d8-e6bc6c2f80ce",
   "metadata": {
    "execution": {
     "iopub.execute_input": "2024-01-10T17:55:56.193674Z",
     "iopub.status.busy": "2024-01-10T17:55:56.193146Z",
     "iopub.status.idle": "2024-01-10T17:55:56.437228Z",
     "shell.execute_reply": "2024-01-10T17:55:56.436353Z",
     "shell.execute_reply.started": "2024-01-10T17:55:56.193635Z"
    },
    "tags": []
   },
   "outputs": [
    {
     "data": {
      "application/vnd.jupyter.widget-view+json": {
       "model_id": "495694bc186b40f5841d6d3531daff9d",
       "version_major": 2,
       "version_minor": 0
      },
      "text/plain": [
       "VBox()"
      ]
     },
     "metadata": {},
     "output_type": "display_data"
    },
    {
     "data": {
      "application/vnd.jupyter.widget-view+json": {
       "model_id": "",
       "version_major": 2,
       "version_minor": 0
      },
      "text/plain": [
       "FloatProgress(value=0.0, bar_style='info', description='Progress:', layout=Layout(height='25px', width='50%'),…"
      ]
     },
     "metadata": {},
     "output_type": "display_data"
    },
    {
     "name": "stdout",
     "output_type": "stream",
     "text": [
      "Intercept: -0.8136640297932834"
     ]
    }
   ],
   "source": [
    "# Get the coefficients\n",
    "coefficients = lr_model.coefficients\n",
    "intercept = lr_model.intercept\n",
    "\n",
    "# Print the coefficients\n",
    "print(\"Intercept: {}\".format(intercept))"
   ]
  },
  {
   "cell_type": "code",
   "execution_count": 43,
   "id": "ba481758-2f34-4feb-a7ed-b0297844024e",
   "metadata": {
    "execution": {
     "iopub.execute_input": "2024-01-10T17:55:56.438442Z",
     "iopub.status.busy": "2024-01-10T17:55:56.438206Z",
     "iopub.status.idle": "2024-01-10T17:55:56.483610Z",
     "shell.execute_reply": "2024-01-10T17:55:56.482973Z",
     "shell.execute_reply.started": "2024-01-10T17:55:56.438418Z"
    },
    "tags": []
   },
   "outputs": [
    {
     "data": {
      "application/vnd.jupyter.widget-view+json": {
       "model_id": "fb6ace22763142d3b4386285769ce7c1",
       "version_major": 2,
       "version_minor": 0
      },
      "text/plain": [
       "VBox()"
      ]
     },
     "metadata": {},
     "output_type": "display_data"
    },
    {
     "data": {
      "application/vnd.jupyter.widget-view+json": {
       "model_id": "",
       "version_major": 2,
       "version_minor": 0
      },
      "text/plain": [
       "FloatProgress(value=0.0, bar_style='info', description='Progress:', layout=Layout(height='25px', width='50%'),…"
      ]
     },
     "metadata": {},
     "output_type": "display_data"
    }
   ],
   "source": [
    "# print(\"Coefficients: {}\".format(coefficients))"
   ]
  },
  {
   "cell_type": "code",
   "execution_count": 44,
   "id": "915fbd7c-1c83-4d64-8fc6-e8e2d4b645f3",
   "metadata": {
    "execution": {
     "iopub.execute_input": "2024-01-10T17:55:56.485270Z",
     "iopub.status.busy": "2024-01-10T17:55:56.484811Z",
     "iopub.status.idle": "2024-01-10T17:55:56.524178Z",
     "shell.execute_reply": "2024-01-10T17:55:56.522786Z",
     "shell.execute_reply.started": "2024-01-10T17:55:56.485230Z"
    },
    "tags": []
   },
   "outputs": [
    {
     "data": {
      "application/vnd.jupyter.widget-view+json": {
       "model_id": "0a925e6aecfc48eaad0c9e7e1af99cfc",
       "version_major": 2,
       "version_minor": 0
      },
      "text/plain": [
       "VBox()"
      ]
     },
     "metadata": {},
     "output_type": "display_data"
    },
    {
     "data": {
      "application/vnd.jupyter.widget-view+json": {
       "model_id": "",
       "version_major": 2,
       "version_minor": 0
      },
      "text/plain": [
       "FloatProgress(value=0.0, bar_style='info', description='Progress:', layout=Layout(height='25px', width='50%'),…"
      ]
     },
     "metadata": {},
     "output_type": "display_data"
    }
   ],
   "source": [
    "# tp = lr_predictions.filter((col(\"likely_member\") == 1) & (col(\"prediction\") == 1)).count()\n",
    "# tn = lr_predictions.filter((col(\"likely_member\") == 0) & (col(\"prediction\") == 0)).count()\n",
    "# fp = lr_predictions.filter((col(\"likely_member\") == 0) & (col(\"prediction\") == 1)).count()\n",
    "# fn = lr_predictions.filter((col(\"likely_member\") == 1) & (col(\"prediction\") == 0)).count()\n",
    "\n",
    "# # Calculate Accuracy\n",
    "# calc_accuracy = (tp + tn) / (tp + tn + fp + fn)\n",
    "\n",
    "# # Print the accuracy\n",
    "# print(\"Accuracy:\", calc_accuracy)"
   ]
  },
  {
   "cell_type": "code",
   "execution_count": 45,
   "id": "23f3f294-c71a-418f-8e59-0bd9636c90fd",
   "metadata": {
    "execution": {
     "iopub.execute_input": "2024-01-10T17:55:56.526164Z",
     "iopub.status.busy": "2024-01-10T17:55:56.525494Z",
     "iopub.status.idle": "2024-01-10T17:55:57.284921Z",
     "shell.execute_reply": "2024-01-10T17:55:57.283997Z",
     "shell.execute_reply.started": "2024-01-10T17:55:56.526136Z"
    },
    "tags": []
   },
   "outputs": [
    {
     "data": {
      "application/vnd.jupyter.widget-view+json": {
       "model_id": "bb9a5cecb3ff461c80460f9c9c816c34",
       "version_major": 2,
       "version_minor": 0
      },
      "text/plain": [
       "VBox()"
      ]
     },
     "metadata": {},
     "output_type": "display_data"
    },
    {
     "data": {
      "application/vnd.jupyter.widget-view+json": {
       "model_id": "",
       "version_major": 2,
       "version_minor": 0
      },
      "text/plain": [
       "FloatProgress(value=0.0, bar_style='info', description='Progress:', layout=Layout(height='25px', width='50%'),…"
      ]
     },
     "metadata": {},
     "output_type": "display_data"
    }
   ],
   "source": [
    "model_path = \"Ethnicolr/lr_model\"\n",
    "lr_model.write().overwrite().save(model_path)"
   ]
  },
  {
   "cell_type": "code",
   "execution_count": 46,
   "id": "c9a58231-16c4-448a-856b-42e5bbe09e17",
   "metadata": {
    "execution": {
     "iopub.execute_input": "2024-01-10T17:55:57.286673Z",
     "iopub.status.busy": "2024-01-10T17:55:57.286324Z",
     "iopub.status.idle": "2024-01-10T17:55:57.544378Z",
     "shell.execute_reply": "2024-01-10T17:55:57.543704Z",
     "shell.execute_reply.started": "2024-01-10T17:55:57.286637Z"
    },
    "tags": []
   },
   "outputs": [
    {
     "data": {
      "application/vnd.jupyter.widget-view+json": {
       "model_id": "ad60cbf01ec54a55a1f7e1377124ebf2",
       "version_major": 2,
       "version_minor": 0
      },
      "text/plain": [
       "VBox()"
      ]
     },
     "metadata": {},
     "output_type": "display_data"
    },
    {
     "data": {
      "application/vnd.jupyter.widget-view+json": {
       "model_id": "",
       "version_major": 2,
       "version_minor": 0
      },
      "text/plain": [
       "FloatProgress(value=0.0, bar_style='info', description='Progress:', layout=Layout(height='25px', width='50%'),…"
      ]
     },
     "metadata": {},
     "output_type": "display_data"
    }
   ],
   "source": [
    "final_lr_predictions = lr_predictions.select(\"full_name\", \"p_race\", \"likely_member\", \"prediction\")"
   ]
  },
  {
   "cell_type": "code",
   "execution_count": 47,
   "id": "f045896a-414a-47e1-a76c-03955b9c1132",
   "metadata": {
    "execution": {
     "iopub.execute_input": "2024-01-10T17:55:57.545543Z",
     "iopub.status.busy": "2024-01-10T17:55:57.545315Z",
     "iopub.status.idle": "2024-01-10T17:55:57.590148Z",
     "shell.execute_reply": "2024-01-10T17:55:57.589546Z",
     "shell.execute_reply.started": "2024-01-10T17:55:57.545520Z"
    },
    "tags": []
   },
   "outputs": [
    {
     "data": {
      "application/vnd.jupyter.widget-view+json": {
       "model_id": "95a5cd3b3b3b4cd0b2f53cd420c1fa59",
       "version_major": 2,
       "version_minor": 0
      },
      "text/plain": [
       "VBox()"
      ]
     },
     "metadata": {},
     "output_type": "display_data"
    },
    {
     "data": {
      "application/vnd.jupyter.widget-view+json": {
       "model_id": "",
       "version_major": 2,
       "version_minor": 0
      },
      "text/plain": [
       "FloatProgress(value=0.0, bar_style='info', description='Progress:', layout=Layout(height='25px', width='50%'),…"
      ]
     },
     "metadata": {},
     "output_type": "display_data"
    }
   ],
   "source": [
    "# check1 = k.groupBy(F.col(\"prediction\")).count()\n",
    "# check2 = k.groupBy(F.col(\"likely_member\")).count()\n",
    "                   \n",
    "# check1.show()\n",
    "# check2.show()"
   ]
  },
  {
   "cell_type": "code",
   "execution_count": 48,
   "id": "bf14387e-0695-4596-b71e-8fd19f6c0e4f",
   "metadata": {
    "execution": {
     "iopub.execute_input": "2024-01-10T17:55:57.591327Z",
     "iopub.status.busy": "2024-01-10T17:55:57.591113Z",
     "iopub.status.idle": "2024-01-10T17:57:11.097729Z",
     "shell.execute_reply": "2024-01-10T17:57:11.097040Z",
     "shell.execute_reply.started": "2024-01-10T17:55:57.591305Z"
    },
    "tags": []
   },
   "outputs": [
    {
     "data": {
      "application/vnd.jupyter.widget-view+json": {
       "model_id": "97b35356b6564fdab00f12538e99ebf1",
       "version_major": 2,
       "version_minor": 0
      },
      "text/plain": [
       "VBox()"
      ]
     },
     "metadata": {},
     "output_type": "display_data"
    },
    {
     "data": {
      "application/vnd.jupyter.widget-view+json": {
       "model_id": "",
       "version_major": 2,
       "version_minor": 0
      },
      "text/plain": [
       "FloatProgress(value=0.0, bar_style='info', description='Progress:', layout=Layout(height='25px', width='50%'),…"
      ]
     },
     "metadata": {},
     "output_type": "display_data"
    }
   ],
   "source": [
    "final_lr_predictions.repartition(1).write.format(\"csv\").mode(\"overwrite\").option(\"header\", \"true\").save(\"s3://cinqcareai-ds-dev-unrestricted/layer_f/ethnicolr_analysis/model_analysis/\")"
   ]
  },
  {
   "cell_type": "code",
   "execution_count": 49,
   "id": "6fe4d9fa-6dfe-436b-93f9-01a131a28f10",
   "metadata": {
    "execution": {
     "iopub.execute_input": "2024-01-10T17:57:11.099256Z",
     "iopub.status.busy": "2024-01-10T17:57:11.098923Z",
     "iopub.status.idle": "2024-01-10T17:58:04.540467Z",
     "shell.execute_reply": "2024-01-10T17:58:04.539647Z",
     "shell.execute_reply.started": "2024-01-10T17:57:11.099221Z"
    }
   },
   "outputs": [
    {
     "data": {
      "application/vnd.jupyter.widget-view+json": {
       "model_id": "af65927318b4436ca79fd3058f082942",
       "version_major": 2,
       "version_minor": 0
      },
      "text/plain": [
       "VBox()"
      ]
     },
     "metadata": {},
     "output_type": "display_data"
    },
    {
     "data": {
      "application/vnd.jupyter.widget-view+json": {
       "model_id": "",
       "version_major": 2,
       "version_minor": 0
      },
      "text/plain": [
       "FloatProgress(value=0.0, bar_style='info', description='Progress:', layout=Layout(height='25px', width='50%'),…"
      ]
     },
     "metadata": {},
     "output_type": "display_data"
    },
    {
     "name": "stdout",
     "output_type": "stream",
     "text": [
      "29628"
     ]
    }
   ],
   "source": [
    "test_data.count()"
   ]
  },
  {
   "cell_type": "code",
   "execution_count": null,
   "id": "55e28679-b032-47e1-9939-0d338d0b55e8",
   "metadata": {},
   "outputs": [],
   "source": []
  }
 ],
 "metadata": {
  "kernelspec": {
   "display_name": "PySpark",
   "language": "python",
   "name": "pysparkkernel"
  },
  "language_info": {
   "codemirror_mode": {
    "name": "python",
    "version": 3
   },
   "file_extension": ".py",
   "mimetype": "text/x-python",
   "name": "pyspark",
   "pygments_lexer": "python3"
  }
 },
 "nbformat": 4,
 "nbformat_minor": 5
}
